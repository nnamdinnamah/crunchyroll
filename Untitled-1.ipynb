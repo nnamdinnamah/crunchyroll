{
 "cells": [
  {
   "cell_type": "code",
   "execution_count": 11,
   "metadata": {},
   "outputs": [
    {
     "ename": "SyntaxError",
     "evalue": "invalid syntax (1047076657.py, line 2)",
     "output_type": "error",
     "traceback": [
      "\u001b[0;36m  Cell \u001b[0;32mIn[11], line 2\u001b[0;36m\u001b[0m\n\u001b[0;31m    pip install sklearn\u001b[0m\n\u001b[0m        ^\u001b[0m\n\u001b[0;31mSyntaxError\u001b[0m\u001b[0;31m:\u001b[0m invalid syntax\n"
     ]
    }
   ],
   "source": [
    "# /Library/Developer/CommandLineTools/usr/bin/python3 -m pip install --upgrade pip\n",
    "\n",
    "pip install numpy\n",
    "pip install pandas\n",
    "pip install os\n",
    "pip install tensorflow"
   ]
  },
  {
   "cell_type": "code",
   "execution_count": 1,
   "metadata": {},
   "outputs": [
    {
     "name": "stderr",
     "output_type": "stream",
     "text": [
      "/Users/michael.nnamah/Library/Python/3.9/lib/python/site-packages/urllib3/__init__.py:35: NotOpenSSLWarning: urllib3 v2 only supports OpenSSL 1.1.1+, currently the 'ssl' module is compiled with 'LibreSSL 2.8.3'. See: https://github.com/urllib3/urllib3/issues/3020\n",
      "  warnings.warn(\n"
     ]
    }
   ],
   "source": [
    "import numpy as np\n",
    "import pandas as pd\n",
    "import os\n",
    "import tensorflow as tf\n",
    "import scikit-learn as sc\n",
    "from sklearn.ensemble import IsolationForest"
   ]
  },
  {
   "cell_type": "code",
   "execution_count": 5,
   "metadata": {},
   "outputs": [
    {
     "name": "stdout",
     "output_type": "stream",
     "text": [
      "event_at_hour           object\n",
      "year                     int64\n",
      "month                    int64\n",
      "day                      int64\n",
      "hour                     int64\n",
      "device_type             object\n",
      "site_name               object\n",
      "cmts_name               object\n",
      "node_id                  int64\n",
      "cabinet_id               int64\n",
      "downstream_telemetry    object\n",
      "dtype: object\n"
     ]
    },
    {
     "data": {
      "text/html": [
       "<div>\n",
       "<style scoped>\n",
       "    .dataframe tbody tr th:only-of-type {\n",
       "        vertical-align: middle;\n",
       "    }\n",
       "\n",
       "    .dataframe tbody tr th {\n",
       "        vertical-align: top;\n",
       "    }\n",
       "\n",
       "    .dataframe thead th {\n",
       "        text-align: right;\n",
       "    }\n",
       "</style>\n",
       "<table border=\"1\" class=\"dataframe\">\n",
       "  <thead>\n",
       "    <tr style=\"text-align: right;\">\n",
       "      <th></th>\n",
       "      <th>event_at_hour</th>\n",
       "      <th>year</th>\n",
       "      <th>month</th>\n",
       "      <th>day</th>\n",
       "      <th>hour</th>\n",
       "      <th>device_type</th>\n",
       "      <th>site_name</th>\n",
       "      <th>cmts_name</th>\n",
       "      <th>node_id</th>\n",
       "      <th>cabinet_id</th>\n",
       "      <th>downstream_telemetry</th>\n",
       "    </tr>\n",
       "  </thead>\n",
       "  <tbody>\n",
       "    <tr>\n",
       "      <th>0</th>\n",
       "      <td>2024-08-01 16:00:00.000000 UTC</td>\n",
       "      <td>2024</td>\n",
       "      <td>8</td>\n",
       "      <td>1</td>\n",
       "      <td>16</td>\n",
       "      <td>BB</td>\n",
       "      <td>Jarrow</td>\n",
       "      <td>jarr-cmts-14</td>\n",
       "      <td>791702</td>\n",
       "      <td>476048</td>\n",
       "      <td>{\\n  \"downstream_telemetry\": {\\n    \"down_chan...</td>\n",
       "    </tr>\n",
       "    <tr>\n",
       "      <th>1</th>\n",
       "      <td>2024-08-01 21:00:00.000000 UTC</td>\n",
       "      <td>2024</td>\n",
       "      <td>8</td>\n",
       "      <td>1</td>\n",
       "      <td>21</td>\n",
       "      <td>BB</td>\n",
       "      <td>Hinckley</td>\n",
       "      <td>hink-cmts-05</td>\n",
       "      <td>806023</td>\n",
       "      <td>718773</td>\n",
       "      <td>{\\n  \"downstream_telemetry\": {\\n    \"down_chan...</td>\n",
       "    </tr>\n",
       "    <tr>\n",
       "      <th>2</th>\n",
       "      <td>2024-08-01 06:00:00.000000 UTC</td>\n",
       "      <td>2024</td>\n",
       "      <td>8</td>\n",
       "      <td>1</td>\n",
       "      <td>6</td>\n",
       "      <td>BB</td>\n",
       "      <td>Hinckley</td>\n",
       "      <td>hink-cmts-05</td>\n",
       "      <td>806006</td>\n",
       "      <td>717137</td>\n",
       "      <td>{\\n  \"downstream_telemetry\": {\\n    \"down_chan...</td>\n",
       "    </tr>\n",
       "    <tr>\n",
       "      <th>3</th>\n",
       "      <td>2024-08-01 20:00:00.000000 UTC</td>\n",
       "      <td>2024</td>\n",
       "      <td>8</td>\n",
       "      <td>1</td>\n",
       "      <td>20</td>\n",
       "      <td>BB</td>\n",
       "      <td>Hinckley</td>\n",
       "      <td>hink-cmts-05</td>\n",
       "      <td>805991</td>\n",
       "      <td>737034</td>\n",
       "      <td>{\\n  \"downstream_telemetry\": {\\n    \"down_chan...</td>\n",
       "    </tr>\n",
       "    <tr>\n",
       "      <th>4</th>\n",
       "      <td>2024-08-01 15:00:00.000000 UTC</td>\n",
       "      <td>2024</td>\n",
       "      <td>8</td>\n",
       "      <td>1</td>\n",
       "      <td>15</td>\n",
       "      <td>BB</td>\n",
       "      <td>Gateshead</td>\n",
       "      <td>gate-cmts-14</td>\n",
       "      <td>790616</td>\n",
       "      <td>178557</td>\n",
       "      <td>{\\n  \"downstream_telemetry\": {\\n    \"down_chan...</td>\n",
       "    </tr>\n",
       "  </tbody>\n",
       "</table>\n",
       "</div>"
      ],
      "text/plain": [
       "                    event_at_hour  year  month  day  hour device_type  \\\n",
       "0  2024-08-01 16:00:00.000000 UTC  2024      8    1    16          BB   \n",
       "1  2024-08-01 21:00:00.000000 UTC  2024      8    1    21          BB   \n",
       "2  2024-08-01 06:00:00.000000 UTC  2024      8    1     6          BB   \n",
       "3  2024-08-01 20:00:00.000000 UTC  2024      8    1    20          BB   \n",
       "4  2024-08-01 15:00:00.000000 UTC  2024      8    1    15          BB   \n",
       "\n",
       "   site_name     cmts_name  node_id  cabinet_id  \\\n",
       "0     Jarrow  jarr-cmts-14   791702      476048   \n",
       "1   Hinckley  hink-cmts-05   806023      718773   \n",
       "2   Hinckley  hink-cmts-05   806006      717137   \n",
       "3   Hinckley  hink-cmts-05   805991      737034   \n",
       "4  Gateshead  gate-cmts-14   790616      178557   \n",
       "\n",
       "                                downstream_telemetry  \n",
       "0  {\\n  \"downstream_telemetry\": {\\n    \"down_chan...  \n",
       "1  {\\n  \"downstream_telemetry\": {\\n    \"down_chan...  \n",
       "2  {\\n  \"downstream_telemetry\": {\\n    \"down_chan...  \n",
       "3  {\\n  \"downstream_telemetry\": {\\n    \"down_chan...  \n",
       "4  {\\n  \"downstream_telemetry\": {\\n    \"down_chan...  "
      ]
     },
     "execution_count": 5,
     "metadata": {},
     "output_type": "execute_result"
    }
   ],
   "source": [
    "#Load the data file into a Pandas Dataframe\n",
    "symptom_data = pd.read_csv(\"bquxjob_3b5e2d3a_1919e2a6a99.csv\")\n",
    "\n",
    "#Explore the data loaded\n",
    "print(symptom_data.dtypes)\n",
    "symptom_data.head()"
   ]
  },
  {
   "cell_type": "code",
   "execution_count": null,
   "metadata": {},
   "outputs": [],
   "source": []
  }
 ],
 "metadata": {
  "kernelspec": {
   "display_name": "Python 3",
   "language": "python",
   "name": "python3"
  },
  "language_info": {
   "codemirror_mode": {
    "name": "ipython",
    "version": 3
   },
   "file_extension": ".py",
   "mimetype": "text/x-python",
   "name": "python",
   "nbconvert_exporter": "python",
   "pygments_lexer": "ipython3",
   "version": "3.9.6"
  }
 },
 "nbformat": 4,
 "nbformat_minor": 2
}
